{
  "nbformat": 4,
  "nbformat_minor": 0,
  "metadata": {
    "colab": {
      "provenance": [],
      "collapsed_sections": []
    },
    "kernelspec": {
      "name": "python3",
      "display_name": "Python 3"
    },
    "language_info": {
      "name": "python"
    },
    "accelerator": "GPU"
  },
  "cells": [
    {
      "cell_type": "markdown",
      "source": [
        "# Dependencies and data load"
      ],
      "metadata": {
        "id": "4G9b5moxRzGf"
      }
    },
    {
      "cell_type": "code",
      "execution_count": null,
      "metadata": {
        "colab": {
          "base_uri": "https://localhost:8080/"
        },
        "id": "FqPrEpbHQGP9",
        "outputId": "6f4e0eb7-61e2-499b-b6f6-13e799251be7"
      },
      "outputs": [
        {
          "output_type": "stream",
          "name": "stdout",
          "text": [
            "Drive already mounted at /content/drive; to attempt to forcibly remount, call drive.mount(\"/content/drive\", force_remount=True).\n"
          ]
        }
      ],
      "source": [
        "from google.colab import drive\n",
        "drive.mount('/content/drive')"
      ]
    },
    {
      "cell_type": "code",
      "source": [
        "!pip install transformers"
      ],
      "metadata": {
        "colab": {
          "base_uri": "https://localhost:8080/"
        },
        "id": "7B4vpxNVS3q9",
        "outputId": "60bccf6c-14c2-47be-c0ff-baa2a8e17453"
      },
      "execution_count": null,
      "outputs": [
        {
          "output_type": "stream",
          "name": "stdout",
          "text": [
            "Looking in indexes: https://pypi.org/simple, https://us-python.pkg.dev/colab-wheels/public/simple/\n",
            "Requirement already satisfied: transformers in /usr/local/lib/python3.7/dist-packages (4.23.1)\n",
            "Requirement already satisfied: tqdm>=4.27 in /usr/local/lib/python3.7/dist-packages (from transformers) (4.64.1)\n",
            "Requirement already satisfied: numpy>=1.17 in /usr/local/lib/python3.7/dist-packages (from transformers) (1.21.6)\n",
            "Requirement already satisfied: importlib-metadata in /usr/local/lib/python3.7/dist-packages (from transformers) (4.13.0)\n",
            "Requirement already satisfied: pyyaml>=5.1 in /usr/local/lib/python3.7/dist-packages (from transformers) (6.0)\n",
            "Requirement already satisfied: tokenizers!=0.11.3,<0.14,>=0.11.1 in /usr/local/lib/python3.7/dist-packages (from transformers) (0.13.1)\n",
            "Requirement already satisfied: regex!=2019.12.17 in /usr/local/lib/python3.7/dist-packages (from transformers) (2022.6.2)\n",
            "Requirement already satisfied: requests in /usr/local/lib/python3.7/dist-packages (from transformers) (2.23.0)\n",
            "Requirement already satisfied: filelock in /usr/local/lib/python3.7/dist-packages (from transformers) (3.8.0)\n",
            "Requirement already satisfied: huggingface-hub<1.0,>=0.10.0 in /usr/local/lib/python3.7/dist-packages (from transformers) (0.10.1)\n",
            "Requirement already satisfied: packaging>=20.0 in /usr/local/lib/python3.7/dist-packages (from transformers) (21.3)\n",
            "Requirement already satisfied: typing-extensions>=3.7.4.3 in /usr/local/lib/python3.7/dist-packages (from huggingface-hub<1.0,>=0.10.0->transformers) (4.1.1)\n",
            "Requirement already satisfied: pyparsing!=3.0.5,>=2.0.2 in /usr/local/lib/python3.7/dist-packages (from packaging>=20.0->transformers) (3.0.9)\n",
            "Requirement already satisfied: zipp>=0.5 in /usr/local/lib/python3.7/dist-packages (from importlib-metadata->transformers) (3.9.0)\n",
            "Requirement already satisfied: certifi>=2017.4.17 in /usr/local/lib/python3.7/dist-packages (from requests->transformers) (2022.9.24)\n",
            "Requirement already satisfied: idna<3,>=2.5 in /usr/local/lib/python3.7/dist-packages (from requests->transformers) (2.10)\n",
            "Requirement already satisfied: chardet<4,>=3.0.2 in /usr/local/lib/python3.7/dist-packages (from requests->transformers) (3.0.4)\n",
            "Requirement already satisfied: urllib3!=1.25.0,!=1.25.1,<1.26,>=1.21.1 in /usr/local/lib/python3.7/dist-packages (from requests->transformers) (1.24.3)\n"
          ]
        }
      ]
    },
    {
      "cell_type": "code",
      "source": [
        "import pandas as pd\n",
        "import numpy as np\n",
        "from sklearn.model_selection import train_test_split\n",
        "\n",
        "from scipy.stats import wasserstein_distance, pearsonr, spearmanr\n",
        "\n",
        "import torch\n",
        "import torch.nn as nn\n",
        "import torch.optim as optim\n",
        "from torch.optim import lr_scheduler, Adam\n",
        "from torch.autograd import Variable\n",
        "import torch.nn.functional as F\n",
        "from torch.utils.data import DataLoader, Dataset\n",
        "\n",
        "from transformers import BertTokenizer, BertModel, AutoTokenizer, AutoModel\n",
        "\n",
        "from nltk.tokenize import sent_tokenize\n",
        "import nltk\n",
        "nltk.download('punkt')\n",
        "\n",
        "import gc\n",
        "from tqdm import tqdm"
      ],
      "metadata": {
        "colab": {
          "base_uri": "https://localhost:8080/"
        },
        "id": "o9QP3vhgQRon",
        "outputId": "a85fa532-d0cb-4591-e31b-22a19e1354b6"
      },
      "execution_count": null,
      "outputs": [
        {
          "output_type": "stream",
          "name": "stderr",
          "text": [
            "[nltk_data] Downloading package punkt to /root/nltk_data...\n",
            "[nltk_data]   Package punkt is already up-to-date!\n"
          ]
        }
      ]
    },
    {
      "cell_type": "code",
      "source": [
        "def acc(x, y):\n",
        "  return (torch.argmax(x) == torch.argmax(y)).double()"
      ],
      "metadata": {
        "id": "LeUyJ6XWr8Pb"
      },
      "execution_count": null,
      "outputs": []
    },
    {
      "cell_type": "code",
      "source": [
        "transformer_path = 'bert-large-cased'"
      ],
      "metadata": {
        "id": "W7B7BLDAXTYc"
      },
      "execution_count": null,
      "outputs": []
    },
    {
      "cell_type": "code",
      "source": [
        "batch_size = 4\n",
        "device = torch.device('cuda:0' if torch.cuda.is_available() else 'cpu')"
      ],
      "metadata": {
        "id": "MdND53uAVoWd"
      },
      "execution_count": null,
      "outputs": []
    },
    {
      "cell_type": "code",
      "source": [
        "train_df = pd.read_csv('/content/drive/MyDrive/emotion detection/train/train_df.csv', index_col='index')\n",
        "test_df = pd.read_csv('/content/drive/MyDrive/emotion detection/test/test_df.csv', index_col='index')"
      ],
      "metadata": {
        "id": "MySPqdGVQRlm"
      },
      "execution_count": null,
      "outputs": []
    },
    {
      "cell_type": "code",
      "source": [
        "df = pd.concat((train_df, test_df))"
      ],
      "metadata": {
        "id": "dPZ9sEbfUOTg"
      },
      "execution_count": null,
      "outputs": []
    },
    {
      "cell_type": "code",
      "source": [
        "df.columns = ['text', 'Anger', 'Disgust', 'Fear', 'Joy', 'Sadness', 'Surprise']\n",
        "df = df.drop('Disgust', axis=1)"
      ],
      "metadata": {
        "id": "yeYbgqtsUrux"
      },
      "execution_count": null,
      "outputs": []
    },
    {
      "cell_type": "code",
      "source": [
        "features = list(df.columns[-5:])\n",
        "features"
      ],
      "metadata": {
        "colab": {
          "base_uri": "https://localhost:8080/"
        },
        "id": "LD-AVLVGSIjS",
        "outputId": "371f412c-d725-4a50-fffc-1e99c254542a"
      },
      "execution_count": null,
      "outputs": [
        {
          "output_type": "execute_result",
          "data": {
            "text/plain": [
              "['Anger', 'Fear', 'Joy', 'Sadness', 'Surprise']"
            ]
          },
          "metadata": {},
          "execution_count": 10
        }
      ]
    },
    {
      "cell_type": "code",
      "source": [
        "df[features] = df[features].apply(lambda it: it/it.sum() if it.sum() else 0, axis=1)\n",
        "df.head()"
      ],
      "metadata": {
        "colab": {
          "base_uri": "https://localhost:8080/",
          "height": 237
        },
        "id": "EpcmJyjlVwSo",
        "outputId": "60dea7a8-7ba7-43c4-cafb-9dd544180e7e"
      },
      "execution_count": null,
      "outputs": [
        {
          "output_type": "execute_result",
          "data": {
            "text/plain": [
              "                                            text     Anger      Fear  \\\n",
              "index                                                                  \n",
              "1         Mortar assault leaves at least 18 dead  0.150685  0.410959   \n",
              "2                         Goal delight for Sheva  0.000000  0.000000   \n",
              "3           Nigeria hostage feared dead is freed  0.081448  0.235294   \n",
              "4                          Bombers kill shoppers  0.268293  0.382114   \n",
              "5      Vegetables, not fruit, slow brain decline  0.000000  0.252525   \n",
              "\n",
              "            Joy   Sadness  Surprise  \n",
              "index                                \n",
              "1      0.000000  0.438356  0.000000  \n",
              "2      0.709924  0.000000  0.290076  \n",
              "3      0.298643  0.090498  0.294118  \n",
              "4      0.000000  0.349593  0.000000  \n",
              "5      0.262626  0.020202  0.464646  "
            ],
            "text/html": [
              "\n",
              "  <div id=\"df-29944529-3db9-4df6-a840-b663e32fa1d7\">\n",
              "    <div class=\"colab-df-container\">\n",
              "      <div>\n",
              "<style scoped>\n",
              "    .dataframe tbody tr th:only-of-type {\n",
              "        vertical-align: middle;\n",
              "    }\n",
              "\n",
              "    .dataframe tbody tr th {\n",
              "        vertical-align: top;\n",
              "    }\n",
              "\n",
              "    .dataframe thead th {\n",
              "        text-align: right;\n",
              "    }\n",
              "</style>\n",
              "<table border=\"1\" class=\"dataframe\">\n",
              "  <thead>\n",
              "    <tr style=\"text-align: right;\">\n",
              "      <th></th>\n",
              "      <th>text</th>\n",
              "      <th>Anger</th>\n",
              "      <th>Fear</th>\n",
              "      <th>Joy</th>\n",
              "      <th>Sadness</th>\n",
              "      <th>Surprise</th>\n",
              "    </tr>\n",
              "    <tr>\n",
              "      <th>index</th>\n",
              "      <th></th>\n",
              "      <th></th>\n",
              "      <th></th>\n",
              "      <th></th>\n",
              "      <th></th>\n",
              "      <th></th>\n",
              "    </tr>\n",
              "  </thead>\n",
              "  <tbody>\n",
              "    <tr>\n",
              "      <th>1</th>\n",
              "      <td>Mortar assault leaves at least 18 dead</td>\n",
              "      <td>0.150685</td>\n",
              "      <td>0.410959</td>\n",
              "      <td>0.000000</td>\n",
              "      <td>0.438356</td>\n",
              "      <td>0.000000</td>\n",
              "    </tr>\n",
              "    <tr>\n",
              "      <th>2</th>\n",
              "      <td>Goal delight for Sheva</td>\n",
              "      <td>0.000000</td>\n",
              "      <td>0.000000</td>\n",
              "      <td>0.709924</td>\n",
              "      <td>0.000000</td>\n",
              "      <td>0.290076</td>\n",
              "    </tr>\n",
              "    <tr>\n",
              "      <th>3</th>\n",
              "      <td>Nigeria hostage feared dead is freed</td>\n",
              "      <td>0.081448</td>\n",
              "      <td>0.235294</td>\n",
              "      <td>0.298643</td>\n",
              "      <td>0.090498</td>\n",
              "      <td>0.294118</td>\n",
              "    </tr>\n",
              "    <tr>\n",
              "      <th>4</th>\n",
              "      <td>Bombers kill shoppers</td>\n",
              "      <td>0.268293</td>\n",
              "      <td>0.382114</td>\n",
              "      <td>0.000000</td>\n",
              "      <td>0.349593</td>\n",
              "      <td>0.000000</td>\n",
              "    </tr>\n",
              "    <tr>\n",
              "      <th>5</th>\n",
              "      <td>Vegetables, not fruit, slow brain decline</td>\n",
              "      <td>0.000000</td>\n",
              "      <td>0.252525</td>\n",
              "      <td>0.262626</td>\n",
              "      <td>0.020202</td>\n",
              "      <td>0.464646</td>\n",
              "    </tr>\n",
              "  </tbody>\n",
              "</table>\n",
              "</div>\n",
              "      <button class=\"colab-df-convert\" onclick=\"convertToInteractive('df-29944529-3db9-4df6-a840-b663e32fa1d7')\"\n",
              "              title=\"Convert this dataframe to an interactive table.\"\n",
              "              style=\"display:none;\">\n",
              "        \n",
              "  <svg xmlns=\"http://www.w3.org/2000/svg\" height=\"24px\"viewBox=\"0 0 24 24\"\n",
              "       width=\"24px\">\n",
              "    <path d=\"M0 0h24v24H0V0z\" fill=\"none\"/>\n",
              "    <path d=\"M18.56 5.44l.94 2.06.94-2.06 2.06-.94-2.06-.94-.94-2.06-.94 2.06-2.06.94zm-11 1L8.5 8.5l.94-2.06 2.06-.94-2.06-.94L8.5 2.5l-.94 2.06-2.06.94zm10 10l.94 2.06.94-2.06 2.06-.94-2.06-.94-.94-2.06-.94 2.06-2.06.94z\"/><path d=\"M17.41 7.96l-1.37-1.37c-.4-.4-.92-.59-1.43-.59-.52 0-1.04.2-1.43.59L10.3 9.45l-7.72 7.72c-.78.78-.78 2.05 0 2.83L4 21.41c.39.39.9.59 1.41.59.51 0 1.02-.2 1.41-.59l7.78-7.78 2.81-2.81c.8-.78.8-2.07 0-2.86zM5.41 20L4 18.59l7.72-7.72 1.47 1.35L5.41 20z\"/>\n",
              "  </svg>\n",
              "      </button>\n",
              "      \n",
              "  <style>\n",
              "    .colab-df-container {\n",
              "      display:flex;\n",
              "      flex-wrap:wrap;\n",
              "      gap: 12px;\n",
              "    }\n",
              "\n",
              "    .colab-df-convert {\n",
              "      background-color: #E8F0FE;\n",
              "      border: none;\n",
              "      border-radius: 50%;\n",
              "      cursor: pointer;\n",
              "      display: none;\n",
              "      fill: #1967D2;\n",
              "      height: 32px;\n",
              "      padding: 0 0 0 0;\n",
              "      width: 32px;\n",
              "    }\n",
              "\n",
              "    .colab-df-convert:hover {\n",
              "      background-color: #E2EBFA;\n",
              "      box-shadow: 0px 1px 2px rgba(60, 64, 67, 0.3), 0px 1px 3px 1px rgba(60, 64, 67, 0.15);\n",
              "      fill: #174EA6;\n",
              "    }\n",
              "\n",
              "    [theme=dark] .colab-df-convert {\n",
              "      background-color: #3B4455;\n",
              "      fill: #D2E3FC;\n",
              "    }\n",
              "\n",
              "    [theme=dark] .colab-df-convert:hover {\n",
              "      background-color: #434B5C;\n",
              "      box-shadow: 0px 1px 3px 1px rgba(0, 0, 0, 0.15);\n",
              "      filter: drop-shadow(0px 1px 2px rgba(0, 0, 0, 0.3));\n",
              "      fill: #FFFFFF;\n",
              "    }\n",
              "  </style>\n",
              "\n",
              "      <script>\n",
              "        const buttonEl =\n",
              "          document.querySelector('#df-29944529-3db9-4df6-a840-b663e32fa1d7 button.colab-df-convert');\n",
              "        buttonEl.style.display =\n",
              "          google.colab.kernel.accessAllowed ? 'block' : 'none';\n",
              "\n",
              "        async function convertToInteractive(key) {\n",
              "          const element = document.querySelector('#df-29944529-3db9-4df6-a840-b663e32fa1d7');\n",
              "          const dataTable =\n",
              "            await google.colab.kernel.invokeFunction('convertToInteractive',\n",
              "                                                     [key], {});\n",
              "          if (!dataTable) return;\n",
              "\n",
              "          const docLinkHtml = 'Like what you see? Visit the ' +\n",
              "            '<a target=\"_blank\" href=https://colab.research.google.com/notebooks/data_table.ipynb>data table notebook</a>'\n",
              "            + ' to learn more about interactive tables.';\n",
              "          element.innerHTML = '';\n",
              "          dataTable['output_type'] = 'display_data';\n",
              "          await google.colab.output.renderOutput(dataTable, element);\n",
              "          const docLink = document.createElement('div');\n",
              "          docLink.innerHTML = docLinkHtml;\n",
              "          element.appendChild(docLink);\n",
              "        }\n",
              "      </script>\n",
              "    </div>\n",
              "  </div>\n",
              "  "
            ]
          },
          "metadata": {},
          "execution_count": 11
        }
      ]
    },
    {
      "cell_type": "code",
      "source": [
        "tmp, valid_df = train_test_split(df, test_size=0.2, random_state=42)\n",
        "train_df, test_df = train_test_split(tmp, test_size=2/8, random_state=42)"
      ],
      "metadata": {
        "id": "Um1iIbXKWYdf"
      },
      "execution_count": null,
      "outputs": []
    },
    {
      "cell_type": "markdown",
      "source": [
        "# Dataset class"
      ],
      "metadata": {
        "id": "ctZrPpqQR5e8"
      }
    },
    {
      "cell_type": "code",
      "source": [
        "tokenizer = BertTokenizer.from_pretrained(transformer_path)\n",
        "\n",
        "class Dataset(torch.utils.data.Dataset):\n",
        "\n",
        "    def __init__(self, df):\n",
        "\n",
        "        self.labels = df[features].reset_index()\n",
        "        self.texts = df[[\"text\"]].reset_index()\n",
        "\n",
        "    def classes(self):\n",
        "        return self.labels\n",
        "\n",
        "    def __len__(self):\n",
        "        return len(self.labels)\n",
        "\n",
        "    def get_batch_labels(self, idx):\n",
        "        # Fetch a batch of labels\n",
        "        return np.array(self.labels.loc[idx].values[1:]).astype(float)\n",
        "\n",
        "    def get_batch_texts(self, idx):\n",
        "        # Fetch a batch of inputs\n",
        "        text = self.texts.loc[idx].values[1]\n",
        "        text = (tokenizer.sep_token).join(sent_tokenize(text))\n",
        "        return tokenizer(text, \n",
        "                        padding='max_length', max_length = 512, truncation=True,\n",
        "                        return_tensors=\"pt\")\n",
        "\n",
        "    def __getitem__(self, idx):\n",
        "\n",
        "        batch_texts = self.get_batch_texts(idx)\n",
        "        batch_y = self.get_batch_labels(idx)\n",
        "\n",
        "        return batch_texts, batch_y"
      ],
      "metadata": {
        "id": "HBKmjEkIQRi7"
      },
      "execution_count": null,
      "outputs": []
    },
    {
      "cell_type": "markdown",
      "source": [
        "# Model"
      ],
      "metadata": {
        "id": "MLBuujU9XF1k"
      }
    },
    {
      "cell_type": "code",
      "source": [
        "class MeanPooling(nn.Module):\n",
        "    def __init__(self):\n",
        "        super(MeanPooling, self).__init__()\n",
        "        \n",
        "    def forward(self, last_hidden_state, attention_mask):\n",
        "        input_mask_expanded = attention_mask.unsqueeze(-1).expand(last_hidden_state.size()).float()\n",
        "        sum_embeddings = torch.sum(last_hidden_state * input_mask_expanded, 1)\n",
        "        sum_mask = input_mask_expanded.sum(1)\n",
        "        sum_mask = torch.clamp(sum_mask, min=1e-9)\n",
        "        mean_embeddings = sum_embeddings / sum_mask\n",
        "        return mean_embeddings\n",
        "\n",
        "class MaxPooling(nn.Module):\n",
        "    def __init__(self):\n",
        "        super(MaxPooling, self).__init__()\n",
        "        \n",
        "    def forward(self, last_hidden_state, attention_mask):\n",
        "        input_mask_expanded = attention_mask.unsqueeze(-1).expand(last_hidden_state.size()).float()\n",
        "        embeddings = last_hidden_state.clone()\n",
        "        embeddings[input_mask_expanded == 0] = -1e4\n",
        "        max_embeddings, _ = torch.max(embeddings, dim = 1)\n",
        "        return max_embeddings\n",
        "    \n",
        "class MinPooling(nn.Module):\n",
        "    def __init__(self):\n",
        "        super(MinPooling, self).__init__()\n",
        "        \n",
        "    def forward(self, last_hidden_state, attention_mask):\n",
        "        input_mask_expanded = attention_mask.unsqueeze(-1).expand(last_hidden_state.size()).float()\n",
        "        embeddings = last_hidden_state.clone()\n",
        "        embeddings[input_mask_expanded == 0] = 1e-4\n",
        "        min_embeddings, _ = torch.min(embeddings, dim = 1)\n",
        "        return min_embeddings\n",
        "    \n",
        "class TransformerModel(nn.Module):\n",
        "\n",
        "    def __init__(self):\n",
        "\n",
        "        super(TransformerModel, self).__init__()\n",
        "\n",
        "        self.bert = BertModel.from_pretrained(transformer_path)\n",
        "        self.dropout1 = nn.Dropout(0.1)\n",
        "        self.dropout2 = nn.Dropout(0.2)\n",
        "        self.dropout3 = nn.Dropout(0.3)\n",
        "        self.dropout4 = nn.Dropout(0.4)\n",
        "        self.dropout5 = nn.Dropout(0.5)\n",
        "        self.clf = nn.Sequential(\n",
        "            nn.Linear(1024, len(features)),\n",
        "            nn.Softmax(dim=1)\n",
        "        )\n",
        "        # self.pool = MeanPooling()\n",
        "\n",
        "    def forward(self, input_id, mask):\n",
        "\n",
        "        _, x = self.bert(input_ids= input_id, attention_mask=mask,return_dict=False)\n",
        "        # x = self.pool(x, mask)\n",
        "        \n",
        "        # layer_weight = F.softmax(self.hidden_layer_weights, dim = 1)\n",
        "        # out_mean = torch.sum(hidden_states * layer_weight, dim = 1)\n",
        "        # x = self.layer_norm(out_mean)\n",
        "        \n",
        "        x1 = self.dropout1(x)\n",
        "        x2 = self.dropout2(x)\n",
        "        x3 = self.dropout3(x)\n",
        "        x4 = self.dropout4(x)\n",
        "        x5 = self.dropout5(x)\n",
        "        x = (x1 + x2 + x3 + x4 + x5) / 5\n",
        "        out = self.clf(x)\n",
        "        return out"
      ],
      "metadata": {
        "id": "h3Di1DuMSAli"
      },
      "execution_count": null,
      "outputs": []
    },
    {
      "cell_type": "markdown",
      "source": [
        "# Train"
      ],
      "metadata": {
        "id": "iQqdRdawX2VO"
      }
    },
    {
      "cell_type": "code",
      "source": [
        "def train(model, train_data, val_data, epochs):\n",
        "\n",
        "  train, val = Dataset(train_data), Dataset(val_data)\n",
        "  if torch.cuda.is_available():  \n",
        "      dev = \"cuda:0\" \n",
        "  else:  \n",
        "      dev = \"cpu\"  \n",
        "  device = torch.device(dev) \n",
        "  criterion = nn.MSELoss()\n",
        "  optimizer = Adam(model.parameters(), lr=1e-5)\n",
        "  scheduler = lr_scheduler.CosineAnnealingWarmRestarts(optimizer,T_0=500, \n",
        "                                                                eta_min=1e-6)\n",
        "\n",
        "  train_dataloader = torch.utils.data.DataLoader(train, batch_size=batch_size, shuffle=True)\n",
        "  val_dataloader = torch.utils.data.DataLoader(val, batch_size=batch_size)\n",
        "\n",
        "  use_cuda = torch.cuda.is_available()\n",
        "  device = torch.device(\"cuda\" if use_cuda else \"cpu\")\n",
        "\n",
        "  if use_cuda:\n",
        "\n",
        "          model = model.cuda()\n",
        "          criterion = criterion.cuda()\n",
        "\n",
        "  for epoch_num in range(epochs):\n",
        "\n",
        "        total_loss_train = 0\n",
        "\n",
        "        for train_input, train_labels in tqdm(train_dataloader):\n",
        "\n",
        "            train_labels = train_labels.to(device).float()\n",
        "            mask = train_input['attention_mask'].to(device)\n",
        "            input_id = train_input['input_ids'].squeeze(1).to(device)\n",
        "\n",
        "            output = model(input_id, mask)\n",
        "\n",
        "            batch_loss = criterion(output, train_labels)\n",
        "            total_loss_train += batch_loss.item()\n",
        "            \n",
        "            model.zero_grad()\n",
        "            batch_loss.backward()\n",
        "            optimizer.step()\n",
        "            scheduler.step()\n",
        "        \n",
        "        total_loss_val = 0\n",
        "        pred = []\n",
        "        labels = []\n",
        "        with torch.no_grad():\n",
        "            \n",
        "            for val_input, val_label in val_dataloader:\n",
        "\n",
        "                val_label = val_label.to(device)\n",
        "                mask = val_input['attention_mask'].to(device)\n",
        "                input_id = val_input['input_ids'].squeeze(1).to(device)\n",
        "\n",
        "                output = model(input_id, mask)\n",
        "                pred += [output]\n",
        "                labels += [val_label]\n",
        "\n",
        "                batch_loss = criterion(output, val_label)\n",
        "                total_loss_val += batch_loss.item()\n",
        "\n",
        "        \n",
        "        torch.save(model.state_dict(), f'bert_{epoch_num+1}.pt') \n",
        "        pred = torch.cat(pred, dim=0).cpu()\n",
        "        labels = torch.cat(labels, dim=0).cpu()\n",
        "\n",
        "        acc_1 = torch.mean(torch.tensor([acc(pred[i], labels[i]) for i in range(pred.size()[0])]))\n",
        "        APd = torch.mean(torch.tensor([pearsonr(pred[i], labels[i])[0] for i in range(pred.size()[0])]))\n",
        "        ASd = torch.mean(torch.tensor([spearmanr(pred[i], labels[i])[0] for i in range(pred.size()[0])]))\n",
        "        APe = torch.mean(torch.tensor([pearsonr(pred[:, i], labels[:, i])[0] for i in range(len(features))]))\n",
        "        ASe = torch.mean(torch.tensor([spearmanr(pred[:, i], labels[:, i])[0] for i in range(len(features))]))\n",
        "        RMSED = torch.mean(torch.tensor([np.sqrt(nn.functional.mse_loss(pred[i:i+1, :], labels[i:i+1, :])) for i in range(pred.size()[0])]))\n",
        "        WD = torch.mean(torch.tensor([wasserstein_distance(pred[i], labels[i]) for i in range(pred.size()[0])]))\n",
        "        print(f'EPOCH {epoch_num + 1}')\n",
        "        print(f'Test Loss: {total_loss_val / len(val_data): .3f}')\n",
        "        print(f'ACC@1: {acc_1:0.4f}, RMSED: {RMSED:0.4f}, WD: {WD:0.4f}')\n",
        "        print(f'APd: {APd:0.4f}, ASd: {ASd:0.4f}, APe: {APe:0.4f}, ASe: {ASe:0.4f}')\n"
      ],
      "metadata": {
        "id": "9LQ6VDgFSAgo"
      },
      "execution_count": null,
      "outputs": []
    },
    {
      "cell_type": "code",
      "source": [
        "def evaluate(model, test_data):\n",
        "\n",
        "    test = Dataset(test_data)\n",
        "\n",
        "    test_dataloader = torch.utils.data.DataLoader(test, batch_size=2)\n",
        "    criterion = nn.MSELoss()\n",
        "    use_cuda = torch.cuda.is_available()\n",
        "    device = torch.device(\"cuda\" if use_cuda else \"cpu\")\n",
        "\n",
        "    if use_cuda:\n",
        "\n",
        "        model = model.cuda()\n",
        "\n",
        "    total_loss_test = 0\n",
        "    pred = []\n",
        "    labels = []\n",
        "    with torch.no_grad():\n",
        "\n",
        "        for test_input, test_labels in tqdm(test_dataloader):\n",
        "\n",
        "            test_labels = test_labels.to(device)\n",
        "            mask = test_input['attention_mask'].to(device)\n",
        "            input_id = test_input['input_ids'].squeeze(1).to(device)\n",
        "\n",
        "            output = model(input_id, mask)\n",
        "            pred += [output]\n",
        "            labels += [test_labels]\n",
        "\n",
        "            loss = criterion(output, test_labels)\n",
        "            total_loss_test += loss\n",
        "    \n",
        "    pred = torch.cat(pred, dim=0).cpu()\n",
        "    labels = torch.cat(labels, dim=0).cpu()\n",
        "\n",
        "    acc_1 = torch.mean(torch.tensor([acc(pred[i], labels[i]) for i in range(pred.size()[0])]))\n",
        "    APd = torch.mean(torch.tensor([pearsonr(pred[i], labels[i])[0] for i in range(pred.size()[0])]))\n",
        "    ASd = torch.mean(torch.tensor([spearmanr(pred[i], labels[i])[0] for i in range(pred.size()[0])]))\n",
        "    APe = torch.mean(torch.tensor([pearsonr(pred[:, i], labels[:, i])[0] for i in range(len(features))]))\n",
        "    ASe = torch.mean(torch.tensor([spearmanr(pred[:, i], labels[:, i])[0] for i in range(len(features))]))\n",
        "    RMSED = torch.mean(torch.tensor([np.sqrt(nn.functional.mse_loss(pred[i:i+1, :], labels[i:i+1, :])) for i in range(output.size()[0])]))\n",
        "    WD = torch.mean(torch.tensor([wasserstein_distance(pred[i], labels[i]) for i in range(pred.size()[0])]))\n",
        "    print(f'Test Loss: {total_loss_test / len(test_data): .3f}')\n",
        "    print(f'ACC@1: {acc_1:0.4f}, RMSED: {RMSED:0.4f}, WD: {WD:0.4f}')\n",
        "    print(f'APd: {APd:0.4f}, ASd: {ASd:0.4f}, APe: {APe:0.4f}, ASe: {ASe:0.4f}')"
      ],
      "metadata": {
        "id": "Q8swunBSSAaZ"
      },
      "execution_count": null,
      "outputs": []
    },
    {
      "cell_type": "code",
      "source": [
        "EPOCHS = 10\n",
        "model = TransformerModel()"
      ],
      "metadata": {
        "colab": {
          "base_uri": "https://localhost:8080/"
        },
        "id": "LefuRlgbSAXq",
        "outputId": "5d5cd880-573a-4670-d687-0ae20c24db74"
      },
      "execution_count": null,
      "outputs": [
        {
          "output_type": "stream",
          "name": "stderr",
          "text": [
            "Some weights of the model checkpoint at bert-large-cased were not used when initializing BertModel: ['cls.predictions.transform.dense.weight', 'cls.seq_relationship.bias', 'cls.predictions.transform.LayerNorm.weight', 'cls.predictions.transform.dense.bias', 'cls.seq_relationship.weight', 'cls.predictions.decoder.weight', 'cls.predictions.transform.LayerNorm.bias', 'cls.predictions.bias']\n",
            "- This IS expected if you are initializing BertModel from the checkpoint of a model trained on another task or with another architecture (e.g. initializing a BertForSequenceClassification model from a BertForPreTraining model).\n",
            "- This IS NOT expected if you are initializing BertModel from the checkpoint of a model that you expect to be exactly identical (initializing a BertForSequenceClassification model from a BertForSequenceClassification model).\n"
          ]
        }
      ]
    },
    {
      "cell_type": "code",
      "source": [
        "train(model, train_df, valid_df, EPOCHS)"
      ],
      "metadata": {
        "colab": {
          "base_uri": "https://localhost:8080/"
        },
        "id": "AKYCLHLhceDZ",
        "outputId": "c695ef36-40b0-44c3-d1c3-79d762fbc2c1"
      },
      "execution_count": null,
      "outputs": [
        {
          "output_type": "stream",
          "name": "stderr",
          "text": [
            "100%|██████████| 188/188 [04:03<00:00,  1.30s/it]\n"
          ]
        },
        {
          "output_type": "stream",
          "name": "stdout",
          "text": [
            "Test Loss:  0.007\n",
            "ACC@1: 0.5240, RMSED: 0.1541, WD: 0.0974\n",
            "APd: 0.5767, ASd: 0.5448, APe: 0.5842, ASe: 0.6144\n"
          ]
        },
        {
          "output_type": "stream",
          "name": "stderr",
          "text": [
            "100%|██████████| 188/188 [04:01<00:00,  1.29s/it]\n"
          ]
        },
        {
          "output_type": "stream",
          "name": "stdout",
          "text": [
            "Test Loss:  0.006\n",
            "ACC@1: 0.5680, RMSED: 0.1416, WD: 0.0860\n",
            "APd: 0.6220, ASd: 0.5859, APe: 0.6351, ASe: 0.6505\n"
          ]
        },
        {
          "output_type": "stream",
          "name": "stderr",
          "text": [
            "100%|██████████| 188/188 [04:01<00:00,  1.29s/it]\n"
          ]
        },
        {
          "output_type": "stream",
          "name": "stdout",
          "text": [
            "Test Loss:  0.007\n",
            "ACC@1: 0.5800, RMSED: 0.1420, WD: 0.0827\n",
            "APd: 0.6270, ASd: 0.5830, APe: 0.6349, ASe: 0.6549\n"
          ]
        },
        {
          "output_type": "stream",
          "name": "stderr",
          "text": [
            "100%|██████████| 188/188 [04:02<00:00,  1.29s/it]\n"
          ]
        },
        {
          "output_type": "stream",
          "name": "stdout",
          "text": [
            "Test Loss:  0.006\n",
            "ACC@1: 0.6160, RMSED: 0.1374, WD: 0.0806\n",
            "APd: 0.6471, ASd: 0.6165, APe: 0.6502, ASe: 0.6711\n"
          ]
        },
        {
          "output_type": "stream",
          "name": "stderr",
          "text": [
            "100%|██████████| 188/188 [04:01<00:00,  1.29s/it]\n"
          ]
        },
        {
          "output_type": "stream",
          "name": "stdout",
          "text": [
            "Test Loss:  0.006\n",
            "ACC@1: 0.6320, RMSED: 0.1328, WD: 0.0776\n",
            "APd: 0.6644, ASd: 0.6147, APe: 0.6724, ASe: 0.6812\n"
          ]
        },
        {
          "output_type": "stream",
          "name": "stderr",
          "text": [
            "100%|██████████| 188/188 [04:01<00:00,  1.29s/it]\n"
          ]
        },
        {
          "output_type": "stream",
          "name": "stdout",
          "text": [
            "Test Loss:  0.006\n",
            "ACC@1: 0.6040, RMSED: 0.1371, WD: 0.0795\n",
            "APd: 0.6493, ASd: 0.6114, APe: 0.6549, ASe: 0.6723\n"
          ]
        },
        {
          "output_type": "stream",
          "name": "stderr",
          "text": [
            "100%|██████████| 188/188 [04:01<00:00,  1.28s/it]\n"
          ]
        },
        {
          "output_type": "stream",
          "name": "stdout",
          "text": [
            "Test Loss:  0.006\n",
            "ACC@1: 0.6200, RMSED: 0.1339, WD: 0.0788\n",
            "APd: 0.6687, ASd: 0.6255, APe: 0.6750, ASe: 0.6900\n"
          ]
        },
        {
          "output_type": "stream",
          "name": "stderr",
          "text": [
            "100%|██████████| 188/188 [04:01<00:00,  1.28s/it]\n"
          ]
        },
        {
          "output_type": "stream",
          "name": "stdout",
          "text": [
            "Test Loss:  0.006\n",
            "ACC@1: 0.6120, RMSED: 0.1330, WD: 0.0750\n",
            "APd: 0.6623, ASd: 0.6230, APe: 0.6659, ASe: 0.6849\n"
          ]
        },
        {
          "output_type": "stream",
          "name": "stderr",
          "text": [
            "100%|██████████| 188/188 [04:01<00:00,  1.29s/it]\n"
          ]
        },
        {
          "output_type": "stream",
          "name": "stdout",
          "text": [
            "Test Loss:  0.006\n",
            "ACC@1: 0.6080, RMSED: 0.1340, WD: 0.0743\n",
            "APd: 0.6535, ASd: 0.6182, APe: 0.6664, ASe: 0.6838\n"
          ]
        },
        {
          "output_type": "stream",
          "name": "stderr",
          "text": [
            "100%|██████████| 188/188 [04:01<00:00,  1.28s/it]\n"
          ]
        },
        {
          "output_type": "stream",
          "name": "stdout",
          "text": [
            "Test Loss:  0.006\n",
            "ACC@1: 0.6240, RMSED: 0.1303, WD: 0.0757\n",
            "APd: 0.6699, ASd: 0.6137, APe: 0.6797, ASe: 0.6898\n"
          ]
        }
      ]
    },
    {
      "cell_type": "code",
      "source": [
        "gc.collect()"
      ],
      "metadata": {
        "colab": {
          "base_uri": "https://localhost:8080/"
        },
        "id": "FcCzFOtHQRcr",
        "outputId": "d9d35fff-7b90-4395-d3f3-3eca320c8360"
      },
      "execution_count": null,
      "outputs": [
        {
          "output_type": "execute_result",
          "data": {
            "text/plain": [
              "19"
            ]
          },
          "metadata": {},
          "execution_count": 19
        }
      ]
    },
    {
      "cell_type": "code",
      "source": [
        "model.load_state_dict(torch.load('bert_5.pt'))"
      ],
      "metadata": {
        "colab": {
          "base_uri": "https://localhost:8080/"
        },
        "id": "ao3RqboDto0S",
        "outputId": "11006a8a-934a-4965-bca2-08916acb84ad"
      },
      "execution_count": null,
      "outputs": [
        {
          "output_type": "execute_result",
          "data": {
            "text/plain": [
              "<All keys matched successfully>"
            ]
          },
          "metadata": {},
          "execution_count": 20
        }
      ]
    },
    {
      "cell_type": "code",
      "source": [
        "evaluate(model, test_df)"
      ],
      "metadata": {
        "colab": {
          "base_uri": "https://localhost:8080/"
        },
        "id": "sNIM5CYSg1j4",
        "outputId": "0ca511de-fd76-4063-aac3-e8e9d8351e9c"
      },
      "execution_count": null,
      "outputs": [
        {
          "output_type": "stream",
          "name": "stderr",
          "text": [
            "100%|██████████| 125/125 [00:30<00:00,  4.10it/s]\n"
          ]
        },
        {
          "output_type": "stream",
          "name": "stdout",
          "text": [
            "Test Loss:  0.010\n",
            "ACC@1: 0.7120, RMSED: 0.0752, WD: 0.0735\n",
            "APd: 0.7432, ASd: 0.7042, APe: 0.7320, ASe: 0.7195\n"
          ]
        }
      ]
    },
    {
      "cell_type": "code",
      "source": [
        "torch.save(model.state_dict(), '/content/drive/MyDrive/emotion detection/best_bert_model.pt')"
      ],
      "metadata": {
        "id": "jj_NsWAaG8VD"
      },
      "execution_count": null,
      "outputs": []
    },
    {
      "cell_type": "markdown",
      "source": [
        "### My Bi-lstm (same partition)\n",
        "\n",
        "Acc@1:  0.5060\n",
        "\n",
        "APd:  0.5223\n",
        "\n",
        "APe:  0.5267\n",
        "\n",
        "RMSED:  0.1631\n",
        "\n",
        "WDD:  0.1009"
      ],
      "metadata": {
        "id": "R1Hlu-6oIg_5"
      }
    },
    {
      "cell_type": "markdown",
      "source": [
        "![2022-10-21_22-52-06.png](data:image/png;base64,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)"
      ],
      "metadata": {
        "id": "gmm1nFdIGeeO"
      }
    }
  ]
}